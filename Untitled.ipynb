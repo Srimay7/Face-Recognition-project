{
 "cells": [
  {
   "cell_type": "code",
   "execution_count": 4,
   "id": "b9035cbd",
   "metadata": {},
   "outputs": [
    {
     "name": "stderr",
     "output_type": "stream",
     "text": [
      "<>:12: SyntaxWarning: \"is\" with a literal. Did you mean \"==\"?\n",
      "<>:12: SyntaxWarning: \"is\" with a literal. Did you mean \"==\"?\n",
      "<ipython-input-4-fc0c5e54a93c>:12: SyntaxWarning: \"is\" with a literal. Did you mean \"==\"?\n",
      "  if faces is():\n"
     ]
    },
    {
     "name": "stdout",
     "output_type": "stream",
     "text": [
      "Collecting Samples Complete!!\n"
     ]
    }
   ],
   "source": [
    "import cv2\n",
    "import numpy as np\n",
    "\n",
    "face_classifier=cv2.CascadeClassifier('haarcascade_frontalface_default.xml')#detect the face of individuals\n",
    "\n",
    "def face_extractor(img):\n",
    "    #Now the 2nd step is to load the image and convert it into gray-scale.\n",
    "   \n",
    "    gray=cv2.cvtColor(img,cv2.COLOR_BGR2GRAY)#converts to grayscale\n",
    "\n",
    "    faces=face_classifier.detectMultiScale(gray,1.3,5)#Parameters for detectMultiScale(gray scale variable,scaleFactor,minNeighbors)\n",
    "    if faces is():\n",
    "        return None\n",
    "    for(x,y,w,h) in faces:\n",
    "        cropped_faces=img[y:y+h,x:x+w]\n",
    "\n",
    "\n",
    "    return cropped_faces\n",
    "\n",
    "\n",
    "\n",
    "cap=cv2.VideoCapture(0)\n",
    "count=0\n",
    "\n",
    "while True:\n",
    "    ret,frame=cap.read()\n",
    "    '''Extract face , convert to grayscale and save it in out folders'''\n",
    "    if face_extractor(frame) is not None:\n",
    "        count+=1\n",
    "        face=cv2.resize(face_extractor(frame),(200,200))\n",
    "        face=cv2.cvtColor(face,cv2.COLOR_BGR2GRAY)\n",
    "     \n",
    "        file_name_path='C:/Users/HP/Desktop/project2/Face recognition/data/train'+str(count)+'.jpg'\n",
    "\n",
    "        cv2.imwrite(file_name_path,face)\n",
    "        cv2.putText(face,str(count),(50,50),cv2.FONT_HERSHEY_COMPLEX,1,(0,255,0),2)\n",
    "        cv2.imshow('Face Cropper',face)\n",
    "    else:\n",
    "        print(\"Face not found\")\n",
    "        pass\n",
    "    if cv2.waitKey(1)==13 or count==200:\n",
    "        break\n",
    "cap.release()\n",
    "cv2.destroyAllWindows()\n",
    "print(\"Collecting Samples Complete!!\")\n"
   ]
  },
  {
   "cell_type": "code",
   "execution_count": null,
   "id": "5e475825",
   "metadata": {},
   "outputs": [],
   "source": []
  },
  {
   "cell_type": "code",
   "execution_count": null,
   "id": "81371938",
   "metadata": {},
   "outputs": [],
   "source": []
  }
 ],
 "metadata": {
  "kernelspec": {
   "display_name": "Python 3",
   "language": "python",
   "name": "python3"
  },
  "language_info": {
   "codemirror_mode": {
    "name": "ipython",
    "version": 3
   },
   "file_extension": ".py",
   "mimetype": "text/x-python",
   "name": "python",
   "nbconvert_exporter": "python",
   "pygments_lexer": "ipython3",
   "version": "3.8.8"
  }
 },
 "nbformat": 4,
 "nbformat_minor": 5
}
